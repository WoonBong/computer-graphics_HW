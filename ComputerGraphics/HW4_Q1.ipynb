{
  "nbformat": 4,
  "nbformat_minor": 0,
  "metadata": {
    "colab": {
      "provenance": []
    },
    "kernelspec": {
      "name": "python3",
      "display_name": "Python 3"
    },
    "language_info": {
      "name": "python"
    }
  },
  "cells": [
    {
      "cell_type": "code",
      "execution_count": 1,
      "metadata": {
        "colab": {
          "base_uri": "https://localhost:8080/"
        },
        "id": "_OEgE_2q2nAs",
        "outputId": "6d0ab7cf-dc30-4323-f171-ea0d349eddb1"
      },
      "outputs": [
        {
          "output_type": "stream",
          "name": "stdout",
          "text": [
            "Requirement already satisfied: numpy in /usr/local/lib/python3.10/dist-packages (1.25.2)\n",
            "Requirement already satisfied: opencv-python in /usr/local/lib/python3.10/dist-packages (4.8.0.76)\n",
            "Requirement already satisfied: numpy>=1.21.2 in /usr/local/lib/python3.10/dist-packages (from opencv-python) (1.25.2)\n"
          ]
        }
      ],
      "source": [
        "!pip install numpy\n",
        "!pip install opencv-python\n",
        "\n"
      ]
    },
    {
      "cell_type": "code",
      "source": [
        "import numpy as np\n",
        "import math\n",
        "\n",
        "def create_scene():\n",
        "    width = 32\n",
        "    height = 16\n",
        "\n",
        "    num_vertices = (height - 2) * width + 2\n",
        "    num_triangles = (height - 2) * (width - 1) * 2\n",
        "\n",
        "    index_buffer = np.zeros((3 * num_triangles,), dtype=int)\n",
        "    vertices = np.zeros((num_vertices, 3), dtype=float)\n",
        "\n",
        "    t = 0\n",
        "    for j in range(1, height - 1):\n",
        "        for i in range(width):\n",
        "            theta = j / (height - 1) * math.pi\n",
        "            phi = i / (width - 1) * math.pi * 2\n",
        "\n",
        "            x = math.sin(theta) * math.cos(phi)\n",
        "            y = math.cos(theta)\n",
        "            z = -math.sin(theta) * math.sin(phi)\n",
        "\n",
        "            vertices[t] = (x, y, z)\n",
        "            t += 1\n",
        "\n",
        "    vertices[t] = (0, 1, 0)\n",
        "    t += 1\n",
        "    vertices[t] = (0, -1, 0)\n",
        "    t += 1\n",
        "\n",
        "    t = 0\n",
        "    for j in range(height - 3):\n",
        "        for i in range(width - 1):\n",
        "            index_buffer[t:t+6] = [j * width + i, (j + 1) * width + (i + 1), j * width + (i + 1),\n",
        "                                   j * width + i, (j + 1) * width + i, (j + 1) * width + (i + 1)]\n",
        "            t += 6\n",
        "    for i in range(width - 1):\n",
        "        index_buffer[t:t+6] = [(height-2) * width, i, i + 1,\n",
        "                               (height-2) * width + 1, (height-3) * width + (i + 1), (height-3) * width + i]\n",
        "        t += 6\n",
        "\n",
        "    return vertices, index_buffer\n"
      ],
      "metadata": {
        "id": "RqboW9Xp21kM"
      },
      "execution_count": 2,
      "outputs": []
    },
    {
      "cell_type": "code",
      "source": [
        "!pip install matplotlib"
      ],
      "metadata": {
        "colab": {
          "base_uri": "https://localhost:8080/"
        },
        "id": "gnqrHb-33Zcs",
        "outputId": "d4786a93-cd33-4c0e-c677-84c0322a447f"
      },
      "execution_count": 3,
      "outputs": [
        {
          "output_type": "stream",
          "name": "stdout",
          "text": [
            "Requirement already satisfied: matplotlib in /usr/local/lib/python3.10/dist-packages (3.7.1)\n",
            "Requirement already satisfied: contourpy>=1.0.1 in /usr/local/lib/python3.10/dist-packages (from matplotlib) (1.2.1)\n",
            "Requirement already satisfied: cycler>=0.10 in /usr/local/lib/python3.10/dist-packages (from matplotlib) (0.12.1)\n",
            "Requirement already satisfied: fonttools>=4.22.0 in /usr/local/lib/python3.10/dist-packages (from matplotlib) (4.51.0)\n",
            "Requirement already satisfied: kiwisolver>=1.0.1 in /usr/local/lib/python3.10/dist-packages (from matplotlib) (1.4.5)\n",
            "Requirement already satisfied: numpy>=1.20 in /usr/local/lib/python3.10/dist-packages (from matplotlib) (1.25.2)\n",
            "Requirement already satisfied: packaging>=20.0 in /usr/local/lib/python3.10/dist-packages (from matplotlib) (24.0)\n",
            "Requirement already satisfied: pillow>=6.2.0 in /usr/local/lib/python3.10/dist-packages (from matplotlib) (9.4.0)\n",
            "Requirement already satisfied: pyparsing>=2.3.1 in /usr/local/lib/python3.10/dist-packages (from matplotlib) (3.1.2)\n",
            "Requirement already satisfied: python-dateutil>=2.7 in /usr/local/lib/python3.10/dist-packages (from matplotlib) (2.8.2)\n",
            "Requirement already satisfied: six>=1.5 in /usr/local/lib/python3.10/dist-packages (from python-dateutil>=2.7->matplotlib) (1.16.0)\n"
          ]
        }
      ]
    },
    {
      "cell_type": "code",
      "source": [
        "import cv2 as cv\n",
        "from matplotlib import pyplot as plt\n",
        "\n",
        "sphere_vertices, triangle_indices = create_scene()\n",
        "\n",
        "scale_factor = 2\n",
        "scale_matrix = np.eye(4) * scale_factor\n",
        "scale_matrix[3, 3] = 1\n",
        "\n",
        "translate_distance = -7\n",
        "translation_matrix = np.eye(4)\n",
        "translation_matrix[:3, 3] = [0, 0, translate_distance]\n",
        "\n",
        "combined_transform = translation_matrix @ scale_matrix\n",
        "\n",
        "camera_matrix = np.eye(4)\n",
        "\n",
        "near_clip = 0.1\n",
        "far_clip = 1000\n",
        "left, right, bottom, top = -0.1, 0.1, -0.1, 0.1\n",
        "\n",
        "perspective_matrix = np.array([\n",
        "    [2 * near_clip / (right - left), 0, (right + left) / (right - left), 0],\n",
        "    [0, 2 * near_clip / (top - bottom), (top + bottom) / (top - bottom), 0],\n",
        "    [0, 0, -(far_clip + near_clip) / (far_clip - near_clip), -2 * far_clip * near_clip / (far_clip - near_clip)],\n",
        "    [0, 0, -1, 0]\n",
        "])\n",
        "\n",
        "# 변환 적용\n",
        "vertices_with_ones = np.hstack((sphere_vertices, np.ones((sphere_vertices.shape[0], 1))))\n",
        "transformed_vertices = combined_transform @ vertices_with_ones.T\n",
        "camera_transformed_vertices = camera_matrix @ transformed_vertices\n",
        "projected_vertices_homogeneous = perspective_matrix @ camera_transformed_vertices\n",
        "projected_vertices = projected_vertices_homogeneous[:3] / projected_vertices_homogeneous[3]\n",
        "\n",
        "window_width, window_height = 512, 512\n",
        "viewport_transform = np.array([\n",
        "    [window_width / 2, 0, 0, window_width / 2],\n",
        "    [0, window_height / 2, 0, window_height / 2],\n",
        "    [0, 0, 1, 0],\n",
        "    [0, 0, 0, 1]\n",
        "])\n",
        "\n",
        "image = np.zeros((window_height, window_width, 3), dtype=np.uint8)\n",
        "for triangle in triangle_indices.reshape(-1, 3):\n",
        "    triangle_points = viewport_transform @ np.vstack((projected_vertices[:, triangle], np.ones(3)))\n",
        "    triangle_points = triangle_points[:2].T.astype(int)\n",
        "    cv.fillConvexPoly(image, triangle_points, (255, 255, 255))\n",
        "\n",
        "image_rgb = cv.cvtColor(image, cv.COLOR_BGR2RGB)\n",
        "plt.imshow(image_rgb)\n",
        "plt.title('Rasterization of a Sphere')\n",
        "plt.show()\n"
      ],
      "metadata": {
        "colab": {
          "base_uri": "https://localhost:8080/",
          "height": 452
        },
        "id": "rqmMk66h4lk8",
        "outputId": "820a4460-16cd-4ec9-c83a-a7c29037a518"
      },
      "execution_count": 4,
      "outputs": [
        {
          "output_type": "display_data",
          "data": {
            "text/plain": [
              "<Figure size 640x480 with 1 Axes>"
            ],
            "image/png": "[encoded data removed]"
          },
          "metadata": {}
        }
      ]
    },
    {
      "cell_type": "code",
      "source": [],
      "metadata": {
        "id": "nUuTr-EejG7v"
      },
      "execution_count": null,
      "outputs": []
    }
  ]
}