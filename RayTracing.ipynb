{
  "nbformat": 4,
  "nbformat_minor": 0,
  "metadata": {
    "colab": {
      "provenance": []
    },
    "kernelspec": {
      "name": "python3",
      "display_name": "Python 3"
    },
    "language_info": {
      "name": "python"
    }
  },
  "cells": [
    {
      "cell_type": "code",
      "execution_count": 2,
      "metadata": {
        "colab": {
          "base_uri": "https://localhost:8080/"
        },
        "id": "fMZBCxwr79AZ",
        "outputId": "347a006f-818f-464d-c596-e205f1ab9851"
      },
      "outputs": [
        {
          "output_type": "stream",
          "name": "stdout",
          "text": [
            "Collecting opencv-python==4.9.0.80\n",
            "  Downloading opencv_python-4.9.0.80-cp37-abi3-manylinux_2_17_x86_64.manylinux2014_x86_64.whl (62.2 MB)\n",
            "\u001b[2K     \u001b[90m━━━━━━━━━━━━━━━━━━━━━━━━━━━━━━━━━━━━━━━━\u001b[0m \u001b[32m62.2/62.2 MB\u001b[0m \u001b[31m10.0 MB/s\u001b[0m eta \u001b[36m0:00:00\u001b[0m\n",
            "\u001b[?25hRequirement already satisfied: numpy>=1.21.2 in /usr/local/lib/python3.10/dist-packages (from opencv-python==4.9.0.80) (1.25.2)\n",
            "Installing collected packages: opencv-python\n",
            "  Attempting uninstall: opencv-python\n",
            "    Found existing installation: opencv-python 4.8.0.76\n",
            "    Uninstalling opencv-python-4.8.0.76:\n",
            "      Successfully uninstalled opencv-python-4.8.0.76\n",
            "Successfully installed opencv-python-4.9.0.80\n",
            "Requirement already satisfied: numpy in /usr/local/lib/python3.10/dist-packages (1.25.2)\n",
            "Requirement already satisfied: matplotlib in /usr/local/lib/python3.10/dist-packages (3.7.1)\n",
            "Requirement already satisfied: contourpy>=1.0.1 in /usr/local/lib/python3.10/dist-packages (from matplotlib) (1.2.0)\n",
            "Requirement already satisfied: cycler>=0.10 in /usr/local/lib/python3.10/dist-packages (from matplotlib) (0.12.1)\n",
            "Requirement already satisfied: fonttools>=4.22.0 in /usr/local/lib/python3.10/dist-packages (from matplotlib) (4.50.0)\n",
            "Requirement already satisfied: kiwisolver>=1.0.1 in /usr/local/lib/python3.10/dist-packages (from matplotlib) (1.4.5)\n",
            "Requirement already satisfied: numpy>=1.20 in /usr/local/lib/python3.10/dist-packages (from matplotlib) (1.25.2)\n",
            "Requirement already satisfied: packaging>=20.0 in /usr/local/lib/python3.10/dist-packages (from matplotlib) (24.0)\n",
            "Requirement already satisfied: pillow>=6.2.0 in /usr/local/lib/python3.10/dist-packages (from matplotlib) (9.4.0)\n",
            "Requirement already satisfied: pyparsing>=2.3.1 in /usr/local/lib/python3.10/dist-packages (from matplotlib) (3.1.2)\n",
            "Requirement already satisfied: python-dateutil>=2.7 in /usr/local/lib/python3.10/dist-packages (from matplotlib) (2.8.2)\n",
            "Requirement already satisfied: six>=1.5 in /usr/local/lib/python3.10/dist-packages (from python-dateutil>=2.7->matplotlib) (1.16.0)\n"
          ]
        }
      ],
      "source": [
        "!pip install opencv-python==4.9.0.80\n",
        "!pip install numpy\n",
        "!pip install matplotlib\n"
      ]
    },
    {
      "cell_type": "code",
      "source": [
        "# ray tracing algorithm\n",
        "# for each pixel {\n",
        "# compute viewing ray\n",
        "# intersect ray with scene\n",
        "# compute illumination at visible point\n",
        "# put result into image\n",
        "# }\n",
        "\n",
        "#참조\n",
        "# Surface s =new Sphere((0.0, 0.0, 0.0), 1.0);\n",
        "# for 0 <=iy <ny\n",
        "# for 0 <=ix <nx {\n",
        "# ray =camera.getRay(ix, iy);\n",
        "# hitSurface, t =s.intersect(ray, 0, +inf)\n",
        "# if hitSurface is not null\n",
        "# image.set(ix, iy, white);\n",
        "# }\n",
        "\n",
        "\n"
      ],
      "metadata": {
        "id": "PCt9DNJWEdd5"
      },
      "execution_count": 12,
      "outputs": []
    },
    {
      "cell_type": "code",
      "source": [
        "import numpy as np\n",
        "import cv2\n",
        "import matplotlib.pyplot as plt\n",
        "\n",
        "def glNormalize(v):\n",
        "    norm = np.linalg.norm(v)\n",
        "    if norm == 0:\n",
        "        return v\n",
        "    return v / norm\n",
        "\n",
        "def glCreateRay(o, d):\n",
        "    return {'origin': o, 'direction': glNormalize(d)}\n",
        "\n",
        "# 구와 광선의 교차 여부 및 교차점 계산 함수\n",
        "def SphereIntersect(ray, center, radius):\n",
        "    oc = ray['origin'] - center\n",
        "    a = np.dot(ray['direction'], ray['direction'])\n",
        "    half_b = np.dot(oc, ray['direction'])\n",
        "    c = np.dot(oc, oc) - radius * radius\n",
        "    discriminant = half_b * half_b - a * c\n",
        "    if discriminant > 0:\n",
        "        root = np.sqrt(discriminant)\n",
        "        temp = (-half_b - root) / a\n",
        "        if temp > 0:\n",
        "            return True, temp\n",
        "    return False, None\n",
        "\n",
        "# 평면과 광선의 교차 여부 및 교차점 계산 함수\n",
        "def PlaneIntersect(ray, position):\n",
        "    denominator = np.dot(ray['direction'], np.array([0, 1, 0]))\n",
        "    if abs(denominator) > 1e-6:\n",
        "        t = (position[1] - ray['origin'][1]) / denominator\n",
        "        if t >= 0:\n",
        "            return True, t\n",
        "    return False, None\n",
        "\n",
        "# 장면 렌더링 함수\n",
        "def renderScene():\n",
        "    img = np.zeros((512, 512, 3), dtype=np.uint8)\n",
        "    camera_pos = np.array([0, 0, 0])\n",
        "    objects = [\n",
        "        {'type': 'plane', 'position': np.array([0, -2, 0])},\n",
        "        {'type': 'sphere', 'center': np.array([-4, 0, -7]), 'radius': 1},\n",
        "        {'type': 'sphere', 'center': np.array([0, 0, -7]), 'radius': 2},\n",
        "        {'type': 'sphere', 'center': np.array([4, 0, -7]), 'radius': 1},\n",
        "    ]\n",
        "\n",
        "    for y in range(512):\n",
        "        for x in range(512):\n",
        "            u = (x / 512) * 2 - 1  # 화면의 가로 위치 계산\n",
        "            v = ((512 - y - 1) / 512) * 2 - 1  # 화면의 세로 위치 계산 (상하 반전 포함)\n",
        "            ray = glCreateRay(camera_pos, np.array([u, v, -1]) - camera_pos)  # 카메라 위치에서 광선 생성\n",
        "            closest = float('inf')  # 가장 가까운 교차점을 찾기 위한 변수 초기화\n",
        "            for obj in objects:  # 모든 객체에 대해 교차 검사\n",
        "                hit = False\n",
        "                if obj['type'] == 'sphere':  # 객체가 구인 경우\n",
        "                    hit, t = SphereIntersect(ray, obj['center'], obj['radius'])\n",
        "                elif obj['type'] == 'plane':  # 객체가 평면인 경우\n",
        "                    hit, t = PlaneIntersect(ray, obj['position'])\n",
        "                if hit and t < closest:  # 가장 가까운 교차점 업데이트\n",
        "                    closest = t\n",
        "                    img[y, x] = [255, 255, 255]  # 교차점에 흰색 픽셀로 표시\n",
        "\n",
        "    plt.imshow(img)  # 생성된 이미지 표시\n",
        "    plt.show()  # 이미지 출력\n",
        "\n",
        "renderScene()  # 장면 렌더링 함수 호출\n",
        "\n"
      ],
      "metadata": {
        "colab": {
          "base_uri": "https://localhost:8080/",
          "height": 435
        },
        "id": "zqo203Nu8GBm",
        "outputId": "d26ca4ea-ac4f-41f9-9443-09252999c0f0"
      },
      "execution_count": 13,
      "outputs": [
        {
          "output_type": "display_data",
          "data": {
            "text/plain": [
              "<Figure size 640x480 with 1 Axes>"
            ],
            "image/png": "[encoded data removed]"
          },
          "metadata": {}
        }
      ]
    },
    {
      "cell_type": "code",
      "source": [],
      "metadata": {
        "id": "BrKV8hQd8dJC"
      },
      "execution_count": null,
      "outputs": []
    }
  ]
}